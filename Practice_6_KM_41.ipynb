{
 "cells": [
  {
   "cell_type": "markdown",
   "metadata": {
    "id": "FMqboNwO4rVs"
   },
   "source": [
    "# **Курс \"Програмування на мові Python\"**"
   ]
  },
  {
   "cell_type": "markdown",
   "metadata": {
    "id": "A2T6MigL5Z06"
   },
   "source": [
    "## **Практичне зайняття №6**\n",
    "### Тема: \"Робота з кортежами, множинами та словниками\""
   ]
  },
  {
   "cell_type": "markdown",
   "metadata": {
    "id": "4AV5CN7N4xja"
   },
   "source": [
    "### **Завдання 1 (1,5 бали)**\n",
    "\n",
    "Напишіть програму, яка визначала б, чи можна з літер однієї фрази скласти іншу фразу. Наприклад:\n",
    "\n",
    "\"William Shakespeare\" -> \"A small spark\"\n",
    "\n",
    "Перша фраза містить 11 унікальних літер (хоча деякі повторюються): a, e, h, i, k, l, m, p, r, s та w. Друга фраза містить 7 унікальних літер: a, k, l, m, p, r та s. Кожна з літер другої фрази зустрічається принаймні один раз у першій фразі.\n",
    "\n",
    "1. Обидві фрази повинні вводитись користувачем з клавіатури.\n",
    "\n",
    "2. Скористайтесь властивістю множин у мові програмування Python для виділення колекції унікальних літер.\n",
    "\n",
    "3. У множину не повинні потрапити пробіли, розділові знаки та інші символи, що не є літерами (скористайтесь методом **isalpha()**). Також усі літери мають бути переведені в нижній або верхній регістр (скористайтесь методами **lower()** або **upper()**).\n",
    "\n",
    "4. Зверніть увагу на те, що літери як в першій, так і вдругій фразі можуть повторюватись. Однак множина унікальних літер другої фрази повинна бути підмножиною множини унікальних літер першої фрази.\n",
    "\n",
    "5. У складі змістовного повідомлення програма повинна виводити множину літер першої фрази, множину літер другої фрази, а також змістовне повідомлення про те, чи можна скласти з літер першої фрази другу фразу."
   ]
  },
  {
   "cell_type": "code",
   "execution_count": 5,
   "metadata": {
    "id": "9Mesp1jV4xjb"
   },
   "outputs": [
    {
     "name": "stdout",
     "output_type": "stream",
     "text": [
      "{'г', 'и', 'с', 'о', 'а', 'і', 'р', 'в', 'н', 'п'}\n",
      "{'г', 'и', 'с', 'о', 'а', 'і', 'р', 'в', 'н', 'п'}\n",
      "The phrase can be composed\n"
     ]
    }
   ],
   "source": [
    "Phrase11 = input(\"Enter your phrase:\" )\n",
    "Phrase22 = input(\"Enter your phrase:\" )\n",
    "Phrase1 = \"\".join(c for c in Phrase11 if c.isalpha())\n",
    "Phrase2 = \"\".join(c for c in Phrase22 if c.isalpha())\n",
    "Phrase1 = Phrase1.lower()\n",
    "Phrase2 = Phrase2.lower() #Convert the list to lower case \n",
    "Phrase1 = \" \".join( Phrase1)\n",
    "Phrase2 = \" \".join(Phrase2) #Divide the list into letters\n",
    "Phrase1 = Phrase1.split(\" \")\n",
    "Phrase2 = Phrase2.split(\" \") #Splitting letters into separate line elements\n",
    "Phrase1 = set(Phrase1)\n",
    "Phrase2 = set(Phrase2) #Convert a list to a set (similar items are automatically thrown out in a set, and unique items remain)\n",
    "\n",
    "if Phrase1 == Phrase2:\n",
    "    print(Phrase1)\n",
    "    print(Phrase2) \n",
    "    print(\"The phrase can be composed\")\n",
    "else:\n",
    "    print(\"A phrase cannot be composed\")\n"
   ]
  },
  {
   "cell_type": "markdown",
   "metadata": {
    "id": "t7fqn1NN-J7z"
   },
   "source": [
    "### **Завдання 2 (1,5 бали)**\n",
    "\n",
    "Скрабл (Ерудит) - це настільна гра, в якій від 2 до 4 гравців складають слова з наявних літер на полі розміром 15 х 15. За кожну використану літеру гравець отримує певну кількість балів. Перелік літер та балів, які можна отримати за використання цих літер, подано у таблиці.\n",
    "\n",
    "Бали | Літери\n",
    "--- | ---\n",
    "1 | A, E, I, L, N, O, R, S, T, U\n",
    "2 | D, G\n",
    "3 | B, C, M, P\n",
    "4 | F, H, V, W, Y\n",
    "5 | K\n",
    "8 | J, X\n",
    "10 | Q, Z\n",
    "\n",
    "Напишіть програму, яка підраховує та виводить загальну кількість балів, яку можна отримати за слово, введене користувачем з клавіатури.\n",
    "\n",
    "1. Скористайтесь словником для збереження усіх балів та літер, за які ці бали нараховуються. \n",
    "\n",
    "2. Якщо користувач введе кілька слів, виведіть бали, які можна отримати за кожне з них окремо.\n",
    "\n",
    "3. Якщо користувач введе символи, що не є літерами (окрім пробіла, який можна використовувати для розділення слів), програма має їх ігнорувати.\n",
    "\n",
    "4. Програма повинна приймати літери як верхнього, так і нижнього регістрів.\n",
    "\n",
    "Наприклад, якщо користувач введе \"Hello, World!\", програма повинна вивести:\n",
    "\n",
    "8 9\n",
    "\n",
    "або більш розгорнутий варіант (за бажанням):\n",
    "\n",
    "4+1+1+1+1=8\n",
    "\n",
    "4+1+1+1+2=9"
   ]
  },
  {
   "cell_type": "code",
   "execution_count": 1,
   "metadata": {
    "id": "EVY800vg4xjg"
   },
   "outputs": [
    {
     "name": "stdout",
     "output_type": "stream",
     "text": [
      "13 "
     ]
    }
   ],
   "source": [
    "Scrabl_word = input('Enterword or phrase: ').lower().split()\n",
    "Glossary_of_Meanings = {'a':1,'e':1,'i':1,'l':1,'n':1,'o':1,'r':1,'s':1,'t':1,'u':1,'d':2,'g':2,'b':3,'c':3,'m':3,'p':3,'f':4,'h':4,'v':4,\n",
    "         'w':4,'y':4,'k':5,'j':8,'x':8,'q':10,'z':10,}\n",
    "for word in Scrabl_word:\n",
    "    s = 0\n",
    "    for letter in word:\n",
    "        if letter in Glossary_of_Meanings:\n",
    "            s0 = Glossary_of_Meanings.get(letter)\n",
    "            s += s0\n",
    "    print(s,end=' ')\n",
    "\n",
    "\n"
   ]
  }
 ],
 "metadata": {
  "colab": {
   "collapsed_sections": [],
   "name": "Practice_5_KM-03_.ipynb",
   "provenance": []
  },
  "kernelspec": {
   "display_name": "Python 3",
   "language": "python",
   "name": "python3"
  },
  "language_info": {
   "codemirror_mode": {
    "name": "ipython",
    "version": 3
   },
   "file_extension": ".py",
   "mimetype": "text/x-python",
   "name": "python",
   "nbconvert_exporter": "python",
   "pygments_lexer": "ipython3",
   "version": "3.12.6"
  }
 },
 "nbformat": 4,
 "nbformat_minor": 2
}
