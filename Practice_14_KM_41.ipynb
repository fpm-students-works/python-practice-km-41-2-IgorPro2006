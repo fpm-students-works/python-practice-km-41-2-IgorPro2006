{
  "cells": [
    {
      "cell_type": "markdown",
      "metadata": {
        "id": "FMqboNwO4rVs"
      },
      "source": [
        "# **Курс \"Програмування на мові Python\"**"
      ]
    },
    {
      "cell_type": "markdown",
      "metadata": {
        "id": "A2T6MigL5Z06"
      },
      "source": [
        "## **Практичне зайняття №16**\n",
        "\n",
        "### Тема: \"Декоратори\""
      ]
    },
    {
      "cell_type": "markdown",
      "metadata": {},
      "source": [
        "### **Завдання 1 (3 бали)**\n",
        "\n",
        "Реалізуйте підрахунок площі трикутника з використанням декоратора, який перевірятиме можливість побудови трикутника з трьох введених користувачем сторін.\n",
        "\n",
        "1. Напишіть функцію area_calculation, яка підраховуватиме площу трикутника за трьома сторонами. Для підрахунку можете скористатись формулою Герона.\n",
        "\n",
        "2. Напишіть функцію check, яка перевірятиме правильність введених користувачем значень (значення мають бути додатними числами, не обов'язково цілими).\n",
        "\n",
        "3. Створіть декоратор triangle_ineq, який перевірятиме виконання нерівності трикутрика для трьох заданих користувачем сторін. Навісьте декоратор triangle_ineq на функція area_calculation та перевірте правильність роботи програми."
      ]
    },
    {
      "cell_type": "code",
      "execution_count": 5,
      "metadata": {},
      "outputs": [
        {
          "name": "stdout",
          "output_type": "stream",
          "text": [
            "All sides are correct.\n",
            "6.437196594791867\n"
          ]
        }
      ],
      "source": [
        "import math \n",
        "def triangle_ineq(func):\n",
        "    if (s1<s2+s3) and (s2<s1+s3) and (s3<s1+s2):\n",
        "        print(\"All sides are correct.\")\n",
        "    else:\n",
        "        print(\"A triangle with sides doesnt exist.\")\n",
        "    return func\n",
        "\n",
        "def check(text):\n",
        "    while True:\n",
        "        side = input(text)\n",
        "        try:\n",
        "            side = float(side)\n",
        "            if side<=0:\n",
        "                raise NameError\n",
        "            break\n",
        "        except ValueError:\n",
        "            print(\"Please input a number\")\n",
        "        except NameError:\n",
        "            print(\"Please input a positive number\")\n",
        "    return side\n",
        "\n",
        "s1 = check(\"Input the first side lenght: \")\n",
        "s2 = check(\"Input the second side lenght: \")\n",
        "s3 = check(\"Input the third side lenght: \")\n",
        "\n",
        "@triangle_ineq\n",
        "def area_calculation(s1,s2,s3):\n",
        "    p = (s1 + s2 + s3)/2\n",
        "    S = math.sqrt(p*(p-s1)*(p-s2)*(p-s3))\n",
        "    return S\n",
        "print(area_calculation(s1,s2,s3))\n",
        "\n",
        "\n"
      ]
    }
  ],
  "metadata": {
    "colab": {
      "collapsed_sections": [],
      "name": "Practice_10-11_KM_01_.ipynb",
      "provenance": []
    },
    "kernelspec": {
      "display_name": "Python 3",
      "name": "python3"
    },
    "language_info": {
      "codemirror_mode": {
        "name": "ipython",
        "version": 3
      },
      "file_extension": ".py",
      "mimetype": "text/x-python",
      "name": "python",
      "nbconvert_exporter": "python",
      "pygments_lexer": "ipython3",
      "version": "3.12.6"
    }
  },
  "nbformat": 4,
  "nbformat_minor": 0
}
